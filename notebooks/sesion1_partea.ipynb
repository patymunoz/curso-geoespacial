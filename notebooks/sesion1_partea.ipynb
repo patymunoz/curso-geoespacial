{
 "cells": [
  {
   "cell_type": "code",
   "execution_count": null,
   "id": "44a65f70",
   "metadata": {
    "vscode": {
     "languageId": "plaintext"
    }
   },
   "outputs": [],
   "source": [
    "#este es unn ejemplo de un script de python"
   ]
  }
 ],
 "metadata": {
  "language_info": {
   "name": "python"
  }
 },
 "nbformat": 4,
 "nbformat_minor": 5
}
