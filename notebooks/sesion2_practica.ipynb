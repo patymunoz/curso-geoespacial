{
 "cells": [
  {
   "cell_type": "markdown",
   "id": "0",
   "metadata": {},
   "source": [
    "# Ejercicios con Shapely\n",
    "Este notebook contiene ejercicios que combinan los conceptos de geometría básica, análisis espacial y operaciones como intersección, unión y buffers usando `shapely`."
   ]
  },
  {
   "cell_type": "markdown",
   "id": "1",
   "metadata": {},
   "source": [
    "## Ejercicio 1: Descomponer MultiPoint y analizar relaciones espaciales"
   ]
  },
  {
   "cell_type": "markdown",
   "id": "2",
   "metadata": {},
   "source": [
    "Tareas:\n",
    "\n",
    "* Separa los puntos del `MultiPoint`.\n",
    "\n",
    "* Determina cuáles están dentro del polígono usando .within().\n",
    "\n",
    "* ¿Cuántos puntos están fuera del polígono?"
   ]
  },
  {
   "cell_type": "code",
   "execution_count": null,
   "id": "3",
   "metadata": {},
   "outputs": [],
   "source": [
    "from shapely.geometry import MultiPoint, Polygon\n",
    "\n",
    "mp = MultiPoint([(2, 2), (4, 4), (6, 6), (8, 2)])\n",
    "pol = Polygon([(3, 1), (7, 1), (7, 5), (3, 5)])"
   ]
  },
  {
   "cell_type": "code",
   "execution_count": null,
   "id": "4",
   "metadata": {},
   "outputs": [],
   "source": [
    "# Tu código aquí\n"
   ]
  },
  {
   "cell_type": "markdown",
   "id": "5",
   "metadata": {},
   "source": [
    "## Ejercicio 2: Intersección y unión de polígonos"
   ]
  },
  {
   "cell_type": "markdown",
   "id": "6",
   "metadata": {},
   "source": [
    "Tareas:\n",
    "\n",
    "* Calcula `a.intersection(b)` y su área.\n",
    "\n",
    "* Calcula `a.union(b)` y su área.\n",
    "\n",
    "* Compara la suma de áreas originales con la del polígono unificado."
   ]
  },
  {
   "cell_type": "code",
   "execution_count": null,
   "id": "7",
   "metadata": {},
   "outputs": [],
   "source": [
    "from shapely.geometry import Polygon\n",
    "\n",
    "a = Polygon([(1, 1), (5, 1), (5, 5), (1, 5)])\n",
    "b = Polygon([(3, 3), (7, 3), (7, 7), (3, 7)])"
   ]
  },
  {
   "cell_type": "code",
   "execution_count": null,
   "id": "8",
   "metadata": {},
   "outputs": [],
   "source": [
    "# Tu código aquí\n"
   ]
  },
  {
   "cell_type": "markdown",
   "id": "9",
   "metadata": {},
   "source": [
    "## Ejercicio 3: Buffers y análisis de cobertura"
   ]
  },
  {
   "cell_type": "markdown",
   "id": "10",
   "metadata": {},
   "source": [
    "Tareas:\n",
    "\n",
    "* Crea un buffer de 3 unidades alrededor de tower.\n",
    "\n",
    "* ¿Cuántas personas usuarias están dentro de ese rango?\n",
    "\n",
    "* ¿Qué pasa si amplías el buffer a 5 unidades?"
   ]
  },
  {
   "cell_type": "code",
   "execution_count": null,
   "id": "11",
   "metadata": {},
   "outputs": [],
   "source": [
    "from shapely.geometry import Point\n",
    "\n",
    "tower = Point(0, 0)\n",
    "users = [Point(1, 1), Point(3, 3), Point(6, 6)]"
   ]
  },
  {
   "cell_type": "code",
   "execution_count": null,
   "id": "12",
   "metadata": {},
   "outputs": [],
   "source": [
    "# Tu código aquí\n"
   ]
  },
  {
   "cell_type": "markdown",
   "id": "13",
   "metadata": {},
   "source": [
    "## Ejercicio 4: Intersección de líneas y punto común"
   ]
  },
  {
   "cell_type": "markdown",
   "id": "14",
   "metadata": {},
   "source": [
    "Tareas:\n",
    "\n",
    "* ¿Se intersectan?\n",
    "\n",
    "* Si sí, ¿cuál es el punto de intersección?\n",
    "\n",
    "* ¿Ese punto también está dentro de otro polígono de tu elección?"
   ]
  },
  {
   "cell_type": "code",
   "execution_count": null,
   "id": "15",
   "metadata": {},
   "outputs": [],
   "source": [
    "from shapely.geometry import LineString\n",
    "\n",
    "l1 = LineString([(0, 0), (4, 4)])\n",
    "l2 = LineString([(0, 4), (4, 0)])"
   ]
  },
  {
   "cell_type": "code",
   "execution_count": null,
   "id": "16",
   "metadata": {},
   "outputs": [],
   "source": [
    "# Tu código aquí\n"
   ]
  },
  {
   "cell_type": "markdown",
   "id": "17",
   "metadata": {},
   "source": [
    "## Ejercicio 5: Composición geométrica y centroides"
   ]
  },
  {
   "cell_type": "markdown",
   "id": "18",
   "metadata": {},
   "source": [
    "Tareas:\n",
    "\n",
    "* Crea una ``GeometryCollection`` con esas geometrías.\n",
    "\n",
    "* Calcula el centroide de cada una por separado.\n",
    "\n",
    "* ¿Qué geometría está más cerca del centroide del polígono?"
   ]
  },
  {
   "cell_type": "code",
   "execution_count": null,
   "id": "19",
   "metadata": {},
   "outputs": [],
   "source": [
    "from shapely.geometry import Point, LineString, Polygon, GeometryCollection\n",
    "\n",
    "p1 = Point(1, 1)\n",
    "l1 = LineString([(0, 0), (2, 2)])\n",
    "pg1 = Polygon([(0, 0), (4, 0), (4, 3), (0, 3)])"
   ]
  },
  {
   "cell_type": "code",
   "execution_count": null,
   "id": "20",
   "metadata": {},
   "outputs": [],
   "source": [
    "# Tu código aquí\n"
   ]
  },
  {
   "cell_type": "markdown",
   "id": "21",
   "metadata": {},
   "source": [
    "## Ejercicio 6: Crear zonas de cobertura y verificar superposición"
   ]
  },
  {
   "cell_type": "markdown",
   "id": "22",
   "metadata": {},
   "source": [
    "Tareas:\n",
    "\n",
    "* Verifica si las zonas se superponen.\n",
    "\n",
    "* Si sí, crea la geometría de la intersección.\n",
    "\n",
    "* Calcula el área de superposición."
   ]
  },
  {
   "cell_type": "code",
   "execution_count": null,
   "id": "23",
   "metadata": {},
   "outputs": [],
   "source": [
    "from shapely.geometry import Point\n",
    "\n",
    "base1 = Point(2, 2).buffer(2)\n",
    "base2 = Point(5, 5).buffer(2)"
   ]
  },
  {
   "cell_type": "code",
   "execution_count": null,
   "id": "24",
   "metadata": {},
   "outputs": [],
   "source": [
    "# Tu código aquí\n"
   ]
  }
 ],
 "metadata": {
  "language_info": {
   "name": "python"
  }
 },
 "nbformat": 4,
 "nbformat_minor": 5
}
