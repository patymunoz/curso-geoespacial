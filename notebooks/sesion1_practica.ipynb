{
 "cells": [
  {
   "cell_type": "markdown",
   "id": "0",
   "metadata": {},
   "source": [
    "# Ejercicios de Python\n",
    "\n",
    "A continuación encontrarás una serie de ejercicios diseñados para ayudarte a practicar los fundamentos de Python. Comienza desde el más sencillo y avanza paso a paso."
   ]
  },
  {
   "cell_type": "markdown",
   "id": "1",
   "metadata": {},
   "source": [
    "## Ejercicio 1: Tu primer saludo\n",
    "**Objetivo:** Usar variables y `print()`\n",
    "\n",
    "**Instrucciones:**\n",
    "Guarda tu nombre en una variable y muestra un saludo con él.\n",
    "\n",
    "**Ejemplo de salida:**\n",
    "```\n",
    "Hola, Carla. ¡Bienvenida a l curso!\n",
    "```"
   ]
  },
  {
   "cell_type": "code",
   "execution_count": null,
   "id": "2",
   "metadata": {},
   "outputs": [],
   "source": [
    "# Escribe tu código aquí\n"
   ]
  },
  {
   "cell_type": "markdown",
   "id": "3",
   "metadata": {},
   "source": [
    "## Ejercicio 2: Operaciones con números\n",
    "**Objetivo:** Usar variables, entrada por teclado (`input`) y operadores\n",
    "\n",
    "**Instrucciones:**\n",
    "Pide a la persona usuaria dos números y muestra:\n",
    "- Su suma\n",
    "- Su resta\n",
    "- Su multiplicación"
   ]
  },
  {
   "cell_type": "code",
   "execution_count": null,
   "id": "4",
   "metadata": {},
   "outputs": [],
   "source": [
    "# Escribe tu código aquí\n"
   ]
  },
  {
   "cell_type": "markdown",
   "id": "5",
   "metadata": {},
   "source": [
    "## Ejercicio 3: ¿Mayor o menor de edad?\n",
    "**Objetivo:** Usar condicionales simples (`if`, `else`)\n",
    "\n",
    "**Instrucciones:**\n",
    "Pide a la persona usuaria su edad.\n",
    "- Si tiene 18 años o más, imprime: `Eres mayor de edad`\n",
    "- Si tiene menos de 18, imprime: `Eres menor de edad`"
   ]
  },
  {
   "cell_type": "code",
   "execution_count": null,
   "id": "6",
   "metadata": {},
   "outputs": [],
   "source": [
    "# Escribe tu código aquí\n"
   ]
  },
  {
   "cell_type": "markdown",
   "id": "7",
   "metadata": {},
   "source": [
    "##  Ejercicio 4: Contador del 1 al 10\n",
    "**Objetivo:** Usar ciclos `while`\n",
    "\n",
    "**Instrucciones:**\n",
    "Escribe un programa que imprima los números del 1 al 10 usando un `while`."
   ]
  },
  {
   "cell_type": "code",
   "execution_count": null,
   "id": "8",
   "metadata": {},
   "outputs": [],
   "source": [
    "# Escribe tu código aquí\n"
   ]
  },
  {
   "cell_type": "markdown",
   "id": "9",
   "metadata": {},
   "source": [
    "## Ejercicio 5: Recorre una lista\n",
    "**Objetivo:** Usar listas y ciclos `for`\n",
    "\n",
    "**Instrucciones:**\n",
    "Crea una lista con tres frutas. Usa un `for` para imprimir cada una.\n",
    "\n",
    "**Ejemplo de salida:**\n",
    "```\n",
    "Manzana\n",
    "Banana\n",
    "Mango\n",
    "```"
   ]
  },
  {
   "cell_type": "code",
   "execution_count": null,
   "id": "10",
   "metadata": {},
   "outputs": [],
   "source": [
    "# Escribe tu código aquí\n"
   ]
  },
  {
   "cell_type": "markdown",
   "id": "11",
   "metadata": {},
   "source": [
    "## Ejercicio 6: Diccionario de estudiante\n",
    "**Objetivo:** Usar diccionarios y acceso a sus valores\n",
    "\n",
    "**Instrucciones:**\n",
    "Crea un diccionario con tu nombre, edad y curso. Imprime un mensaje como:\n",
    "```\n",
    "Hola, me llamo Ana, tengo 20 años y estoy en el curso de Python.\n",
    "```"
   ]
  },
  {
   "cell_type": "code",
   "execution_count": null,
   "id": "12",
   "metadata": {},
   "outputs": [],
   "source": [
    "# Escribe tu código aquí\n"
   ]
  }
 ],
 "metadata": {
  "language_info": {
   "name": "python"
  }
 },
 "nbformat": 4,
 "nbformat_minor": 5
}
