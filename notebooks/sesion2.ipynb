{
 "cells": [
  {
   "cell_type": "markdown",
   "id": "0",
   "metadata": {},
   "source": [
    "# Geometrías _(Shapely)_"
   ]
  },
  {
   "cell_type": "code",
   "execution_count": null,
   "id": "1",
   "metadata": {},
   "outputs": [],
   "source": [
    "import shapely\n",
    "from shapely.geometry import Point, LineString, Polygon\n",
    "from shapely import from_wkt"
   ]
  },
  {
   "cell_type": "markdown",
   "id": "2",
   "metadata": {},
   "source": [
    "## Punto"
   ]
  },
  {
   "cell_type": "markdown",
   "id": "3",
   "metadata": {},
   "source": [
    "Primero, generaremos la geometría más simple: el punto. Para ello, utilizamos la función `Point` de `shapely.geometry`. "
   ]
  },
  {
   "cell_type": "code",
   "execution_count": null,
   "id": "4",
   "metadata": {},
   "outputs": [],
   "source": []
  },
  {
   "cell_type": "code",
   "execution_count": null,
   "id": "5",
   "metadata": {},
   "outputs": [],
   "source": []
  },
  {
   "cell_type": "code",
   "execution_count": null,
   "id": "6",
   "metadata": {},
   "outputs": [],
   "source": []
  },
  {
   "cell_type": "markdown",
   "id": "7",
   "metadata": {},
   "source": [
    "Como podemos observar en las figuras anteriores, los puntos tanto en 2D como en 3D son representados por un círculo. En el caso de los puntos en 3D, nos damos cuenta que es un objeto tridimensional imprimiendo las coordenadas y en `POINT` se tiene la letra `Z` que indica que es un punto tridimensional. "
   ]
  },
  {
   "cell_type": "code",
   "execution_count": null,
   "id": "8",
   "metadata": {},
   "outputs": [],
   "source": []
  },
  {
   "cell_type": "markdown",
   "id": "9",
   "metadata": {},
   "source": [
    "A continuación, podemos revisar el tipo de geometría del objeto que hemos creado. Para ello, utilizamos el método `geom_type` o `type`."
   ]
  },
  {
   "cell_type": "code",
   "execution_count": null,
   "id": "10",
   "metadata": {},
   "outputs": [],
   "source": []
  },
  {
   "cell_type": "code",
   "execution_count": null,
   "id": "11",
   "metadata": {},
   "outputs": [],
   "source": []
  },
  {
   "cell_type": "markdown",
   "id": "12",
   "metadata": {},
   "source": [
    "También podemos observar que el objeto `Point` tiene un método `wkt` que nos permite imprimir la geometría en formato WKT _(Well-Known Text)_. Este formato es un estándar para representar geometrías en texto plano."
   ]
  },
  {
   "cell_type": "code",
   "execution_count": null,
   "id": "13",
   "metadata": {},
   "outputs": [],
   "source": []
  },
  {
   "cell_type": "code",
   "execution_count": null,
   "id": "14",
   "metadata": {},
   "outputs": [],
   "source": []
  },
  {
   "cell_type": "code",
   "execution_count": null,
   "id": "15",
   "metadata": {},
   "outputs": [],
   "source": []
  },
  {
   "cell_type": "markdown",
   "id": "16",
   "metadata": {},
   "source": [
    "### Atributos y funciones"
   ]
  },
  {
   "cell_type": "markdown",
   "id": "17",
   "metadata": {},
   "source": [
    "#### Coordenadas"
   ]
  },
  {
   "cell_type": "markdown",
   "id": "18",
   "metadata": {},
   "source": [
    "Extraer las coordenadas de un punto es muy sencillo. Para ello, utilizamos `.x` y `.y` para obtener las coordenadas X e Y respectivamente. En el caso de los puntos tridimensionales, también podemos acceder a la coordenada Z utilizando `.z`."
   ]
  },
  {
   "cell_type": "code",
   "execution_count": null,
   "id": "19",
   "metadata": {},
   "outputs": [],
   "source": []
  },
  {
   "cell_type": "code",
   "execution_count": null,
   "id": "20",
   "metadata": {},
   "outputs": [],
   "source": []
  },
  {
   "cell_type": "markdown",
   "id": "21",
   "metadata": {},
   "source": [
    "Como hemos visto, es muy sencillo extraer las coordenadas de un objeto `Point`. Sin embargo, también podemos acceder a otros atributos y funciones que nos permiten manipular y analizar la geometría."
   ]
  },
  {
   "cell_type": "markdown",
   "id": "22",
   "metadata": {},
   "source": [
    "#### Distancia"
   ]
  },
  {
   "cell_type": "code",
   "execution_count": null,
   "id": "23",
   "metadata": {},
   "outputs": [],
   "source": []
  },
  {
   "cell_type": "markdown",
   "id": "24",
   "metadata": {},
   "source": [
    "Hasta ahora, hemos calculado distancias entre puntos usando `.distance()`, lo cual funciona correctamente, **pero solo tiene sentido si conocemos las unidades del sistema de referencia espacial (CRS)**.\n"
   ]
  },
  {
   "cell_type": "markdown",
   "id": "25",
   "metadata": {},
   "source": [
    "Cuando usamos `.distance()` sin un CRS definido, la distancia se calcula en unidades arbitrarias (como si fuera un plano cartesiano). Si queremos que tenga sentido geográfico, necesitamos asignar un CRS, como `EPSG:4326` (latitud y longitud en grados decimales).\n",
    "\n",
    "Luego, para obtener distancias en metros reales, debemos transformar esas geometrías a un CRS proyectado como `EPSG:3857` (metros) o una zona UTM apropiada."
   ]
  },
  {
   "cell_type": "markdown",
   "id": "26",
   "metadata": {},
   "source": [
    "```{admonition}\n",
    "Nota\n",
    "    EPSG:3857 es un CRS proyectado que utiliza metros como unidad de medida. Su nombre es \"WGS 84 / Pseudo-Mercator\" y es comúnmente utilizado en aplicaciones web y mapas en línea.\n",
    "```"
   ]
  },
  {
   "cell_type": "code",
   "execution_count": null,
   "id": "27",
   "metadata": {},
   "outputs": [],
   "source": []
  },
  {
   "cell_type": "markdown",
   "id": "28",
   "metadata": {},
   "source": [
    "## Línea"
   ]
  },
  {
   "cell_type": "code",
   "execution_count": null,
   "id": "29",
   "metadata": {},
   "outputs": [],
   "source": []
  },
  {
   "cell_type": "code",
   "execution_count": null,
   "id": "30",
   "metadata": {},
   "outputs": [],
   "source": []
  },
  {
   "cell_type": "code",
   "execution_count": null,
   "id": "31",
   "metadata": {},
   "outputs": [],
   "source": []
  },
  {
   "cell_type": "code",
   "execution_count": null,
   "id": "32",
   "metadata": {},
   "outputs": [],
   "source": []
  },
  {
   "cell_type": "markdown",
   "id": "33",
   "metadata": {},
   "source": [
    "### Atributos y funciones"
   ]
  },
  {
   "cell_type": "markdown",
   "id": "34",
   "metadata": {},
   "source": [
    "* Extraer las coordenadas de una línea: `linea.xy` o `linea.coords`\n",
    "* Calcular la longitud de una línea: `linea.length`\n",
    "* Calcular la distancia entre dos líneas: `linea1.distance(linea2)`\n",
    "* Calcular el centroide de una línea: `linea.centroid`\n",
    "\n",
    "Entre otras funciones, disponibles en la documentación de `shapely`."
   ]
  },
  {
   "cell_type": "code",
   "execution_count": null,
   "id": "35",
   "metadata": {},
   "outputs": [],
   "source": []
  },
  {
   "cell_type": "code",
   "execution_count": null,
   "id": "36",
   "metadata": {},
   "outputs": [],
   "source": []
  },
  {
   "cell_type": "code",
   "execution_count": null,
   "id": "37",
   "metadata": {},
   "outputs": [],
   "source": []
  },
  {
   "cell_type": "code",
   "execution_count": null,
   "id": "38",
   "metadata": {},
   "outputs": [],
   "source": []
  },
  {
   "cell_type": "code",
   "execution_count": null,
   "id": "39",
   "metadata": {},
   "outputs": [],
   "source": []
  },
  {
   "cell_type": "code",
   "execution_count": null,
   "id": "40",
   "metadata": {},
   "outputs": [],
   "source": []
  },
  {
   "cell_type": "code",
   "execution_count": null,
   "id": "41",
   "metadata": {},
   "outputs": [],
   "source": []
  },
  {
   "cell_type": "code",
   "execution_count": null,
   "id": "42",
   "metadata": {},
   "outputs": [],
   "source": []
  },
  {
   "cell_type": "markdown",
   "id": "43",
   "metadata": {},
   "source": [
    "## Polígono"
   ]
  },
  {
   "cell_type": "markdown",
   "id": "44",
   "metadata": {},
   "source": [
    "Crear un objeto `Polygon` es similar a crear un objeto `Point` o `LineString`. La diferencia es que al crear un polígono, debemos definir los vértices de la figura. Para ello, utilizamos una lista de coordenadas (x, y) que definen los vértices del polígono. \n",
    "\n",
    "En este caso, el polígono necesita al menos tres tuplas de coordenadas (x, y) para cerrarse. Si no se cierran, el polígono no se generará correctamente. \n",
    "\n",
    "```{admonition}\n",
    "Nota\n",
    "    En el caso de los polígonos, la geometría se cierra automáticamente. Por lo tanto, no es necesario repetir el primer punto al final de la lista de coordenadas.\n",
    "```"
   ]
  },
  {
   "cell_type": "code",
   "execution_count": null,
   "id": "45",
   "metadata": {},
   "outputs": [],
   "source": []
  },
  {
   "cell_type": "code",
   "execution_count": null,
   "id": "46",
   "metadata": {},
   "outputs": [],
   "source": []
  },
  {
   "cell_type": "markdown",
   "id": "47",
   "metadata": {},
   "source": [
    "Observa que el `Polygon` tiene paréntesis dobles dentro de las coordenadas. Esto se debe a que el polígono puede tener múltiples partes (o \"interiores\"). En este caso, el polígono tiene una sola parte, pero si tuviéramos un polígono con un agujero, tendríamos que definirlo como una lista de listas de coordenadas."
   ]
  },
  {
   "cell_type": "code",
   "execution_count": null,
   "id": "48",
   "metadata": {},
   "outputs": [],
   "source": []
  },
  {
   "cell_type": "markdown",
   "id": "49",
   "metadata": {},
   "source": [
    "Entonces, creemos un polígono con un agujero. Para ello, definimos el polígono exterior y el interior (agujero) como listas de coordenadas. Luego, creamos el objeto `Polygon` utilizando estas listas. "
   ]
  },
  {
   "cell_type": "code",
   "execution_count": null,
   "id": "50",
   "metadata": {},
   "outputs": [],
   "source": []
  },
  {
   "cell_type": "code",
   "execution_count": null,
   "id": "51",
   "metadata": {},
   "outputs": [],
   "source": []
  },
  {
   "cell_type": "code",
   "execution_count": null,
   "id": "52",
   "metadata": {},
   "outputs": [],
   "source": []
  },
  {
   "cell_type": "code",
   "execution_count": null,
   "id": "53",
   "metadata": {},
   "outputs": [],
   "source": []
  },
  {
   "cell_type": "code",
   "execution_count": null,
   "id": "54",
   "metadata": {},
   "outputs": [],
   "source": []
  },
  {
   "cell_type": "markdown",
   "id": "55",
   "metadata": {},
   "source": [
    "Como podemos observar, el `Polygon` tiene dos diferentes partes de tuplas de coordenadas. La primera parte es el polígono exterior y la segunda parte es el agujero."
   ]
  },
  {
   "cell_type": "markdown",
   "id": "56",
   "metadata": {},
   "source": [
    "### Atributos y funciones"
   ]
  },
  {
   "cell_type": "markdown",
   "id": "57",
   "metadata": {},
   "source": [
    "Podemos acceder a los siguientes atributos directamente del objeto `Polygon`:\n",
    "* `polygon.exterior` - Devuelve el polígono exterior.\n",
    "* `polygon.interiors` - Devuelve los agujeros (interiores) del polígono.\n",
    "* `polygon.area` - Devuelve el área del polígono.\n",
    "* `polygon.bounds` - Devuelve los límites del polígono (mínimo y máximo de x e y).\n",
    "* `polygon.centroid` - Devuelve el centroide del polígono."
   ]
  },
  {
   "cell_type": "code",
   "execution_count": null,
   "id": "58",
   "metadata": {},
   "outputs": [],
   "source": []
  },
  {
   "cell_type": "code",
   "execution_count": null,
   "id": "59",
   "metadata": {},
   "outputs": [],
   "source": []
  },
  {
   "cell_type": "markdown",
   "id": "60",
   "metadata": {},
   "source": [
    "## Colección de geometrías _(GeometryCollection)_"
   ]
  },
  {
   "cell_type": "code",
   "execution_count": null,
   "id": "61",
   "metadata": {},
   "outputs": [],
   "source": []
  },
  {
   "cell_type": "code",
   "execution_count": null,
   "id": "62",
   "metadata": {},
   "outputs": [],
   "source": []
  },
  {
   "cell_type": "code",
   "execution_count": null,
   "id": "63",
   "metadata": {},
   "outputs": [],
   "source": []
  },
  {
   "cell_type": "code",
   "execution_count": null,
   "id": "64",
   "metadata": {},
   "outputs": [],
   "source": []
  },
  {
   "cell_type": "code",
   "execution_count": null,
   "id": "65",
   "metadata": {},
   "outputs": [],
   "source": []
  },
  {
   "cell_type": "code",
   "execution_count": null,
   "id": "66",
   "metadata": {},
   "outputs": [],
   "source": []
  },
  {
   "cell_type": "code",
   "execution_count": null,
   "id": "67",
   "metadata": {},
   "outputs": [],
   "source": []
  },
  {
   "cell_type": "code",
   "execution_count": null,
   "id": "68",
   "metadata": {},
   "outputs": [],
   "source": []
  },
  {
   "cell_type": "markdown",
   "id": "69",
   "metadata": {},
   "source": [
    "### Buffer\n",
    "\n",
    "El método `buffer` permite crear un área alrededor de una geometría. Este método es útil para crear zonas de influencia o áreas de protección alrededor de un objeto geográfico. El parámetro `distance` define el radio del área que se generará alrededor de la geometría. "
   ]
  },
  {
   "cell_type": "code",
   "execution_count": null,
   "id": "70",
   "metadata": {},
   "outputs": [],
   "source": []
  },
  {
   "cell_type": "code",
   "execution_count": null,
   "id": "71",
   "metadata": {},
   "outputs": [],
   "source": []
  },
  {
   "cell_type": "markdown",
   "id": "72",
   "metadata": {},
   "source": [
    "```{admonition}\n",
    "Nota\n",
    "    Toma en cuenta que aún no tenemos noción del sistema de referencia espacial (CRS) de las geometrías. Por lo tanto, el área generada por el método `buffer` no tiene unidades definidas.\n",
    "```"
   ]
  },
  {
   "cell_type": "markdown",
   "id": "73",
   "metadata": {},
   "source": [
    "### Métodos booleanos"
   ]
  },
  {
   "cell_type": "markdown",
   "id": "74",
   "metadata": {},
   "source": [
    "Para evaluar la relación entre dos geometrías, podemos utilizar los métodos booleanos de `shapely`. Estos métodos nos permiten determinar si dos geometrías se intersectan, se tocan, se cruzan, etc."
   ]
  },
  {
   "cell_type": "markdown",
   "id": "75",
   "metadata": {},
   "source": [
    "| Método | Significado |\n",
    "|:---:|:---:|\n",
    "| [`.contains`](https://shapely.readthedocs.io/en/stable/manual.html#object.contains) | Contiene |\n",
    "| [`.covered_by`](https://shapely.readthedocs.io/en/stable/manual.html#object.covered_by) | Está cubierto por |\n",
    "| [`.covers`](https://shapely.readthedocs.io/en/stable/manual.html#object.covers) | Cubre |\n",
    "| [`.crosses`](https://shapely.readthedocs.io/en/stable/manual.html#object.crosses) | Cruza |\n",
    "| [`.disjoint`](https://shapely.readthedocs.io/en/stable/manual.html#object.disjoint) | Disjunto |\n",
    "| [`.equals`](https://shapely.readthedocs.io/en/stable/manual.html#object.equals) | Igual |\n",
    "| [`.equals_exact`](https://shapely.readthedocs.io/en/stable/manual.html#object.equals_exact) | Exactamente igual |\n",
    "| [`.intersects`](https://shapely.readthedocs.io/en/stable/manual.html#object.intersects) | Interseca |\n",
    "| [`.overlaps`](https://shapely.readthedocs.io/en/stable/manual.html#object.overlaps) | Se superpone |\n",
    "| [`.touches`](https://shapely.readthedocs.io/en/stable/manual.html#object.touches) | Toca |\n",
    "| [`.within`](https://shapely.readthedocs.io/en/stable/manual.html#object.within) | Está dentro de |\n"
   ]
  },
  {
   "cell_type": "code",
   "execution_count": null,
   "id": "76",
   "metadata": {},
   "outputs": [],
   "source": []
  },
  {
   "cell_type": "code",
   "execution_count": null,
   "id": "77",
   "metadata": {},
   "outputs": [],
   "source": []
  },
  {
   "cell_type": "markdown",
   "id": "78",
   "metadata": {},
   "source": [
    "### Métodos para generar nuevas geometrías"
   ]
  },
  {
   "cell_type": "markdown",
   "id": "79",
   "metadata": {},
   "source": [
    "| Método | Operador | Significado |\n",
    "|:---:|:---:|:---|\n",
    "| [`.intersection`](https://shapely.readthedocs.io/en/stable/manual.html#object.intersection) | `&` | Intersección: la parte común entre dos geometrías. |\n",
    "| [`.union`](https://shapely.readthedocs.io/en/stable/manual.html#object.union) | `\\|` | Unión: combina ambas geometrías en una sola. |\n",
    "| [`.difference`](https://shapely.readthedocs.io/en/stable/manual.html#object.difference) | `-` | Diferencia: la parte de la primera geometría que no está en la segunda. |\n",
    "| [`.symmetric_difference`](https://shapely.readthedocs.io/en/stable/manual.html#object.symmetric_difference) | `^` | Diferencia simétrica: áreas que no se superponen entre ambas geometrías. |\n"
   ]
  },
  {
   "cell_type": "code",
   "execution_count": null,
   "id": "80",
   "metadata": {},
   "outputs": [],
   "source": []
  },
  {
   "cell_type": "markdown",
   "id": "81",
   "metadata": {},
   "source": [
    "La _intersección_ de dos geometrías está definida como la parte común entre ambas. En otras palabras, es la geometría resultante de superponer dos geometrías y quedarnos con la parte que se solapa."
   ]
  },
  {
   "cell_type": "code",
   "execution_count": null,
   "id": "82",
   "metadata": {},
   "outputs": [],
   "source": []
  },
  {
   "cell_type": "markdown",
   "id": "83",
   "metadata": {},
   "source": [
    "La _union_ de dos geometrías regresa el área total cubierta por ambas geometrías. En otras palabras, es la geometría resultante de combinar dos geometrías y quedarnos con el área total que cubren."
   ]
  },
  {
   "cell_type": "code",
   "execution_count": null,
   "id": "84",
   "metadata": {},
   "outputs": [],
   "source": []
  },
  {
   "cell_type": "markdown",
   "id": "85",
   "metadata": {},
   "source": [
    "La _diferencia_ entre dos geometrías regresa el área de la primera geometría menos el área de la segunda geometría."
   ]
  },
  {
   "cell_type": "code",
   "execution_count": null,
   "id": "86",
   "metadata": {},
   "outputs": [],
   "source": []
  },
  {
   "cell_type": "code",
   "execution_count": null,
   "id": "87",
   "metadata": {},
   "outputs": [],
   "source": []
  },
  {
   "cell_type": "markdown",
   "id": "88",
   "metadata": {},
   "source": [
    "### _Geometry Casting_"
   ]
  },
  {
   "cell_type": "code",
   "execution_count": null,
   "id": "89",
   "metadata": {},
   "outputs": [],
   "source": []
  },
  {
   "cell_type": "code",
   "execution_count": null,
   "id": "90",
   "metadata": {},
   "outputs": [],
   "source": []
  },
  {
   "cell_type": "code",
   "execution_count": null,
   "id": "91",
   "metadata": {},
   "outputs": [],
   "source": []
  },
  {
   "cell_type": "code",
   "execution_count": null,
   "id": "92",
   "metadata": {},
   "outputs": [],
   "source": []
  }
 ],
 "metadata": {
  "kernelspec": {
   "display_name": "cursogeo",
   "language": "python",
   "name": "python3"
  },
  "language_info": {
   "codemirror_mode": {
    "name": "ipython",
    "version": 3
   },
   "file_extension": ".py",
   "mimetype": "text/x-python",
   "name": "python",
   "nbconvert_exporter": "python",
   "pygments_lexer": "ipython3",
   "version": "3.13.0"
  }
 },
 "nbformat": 4,
 "nbformat_minor": 5
}
